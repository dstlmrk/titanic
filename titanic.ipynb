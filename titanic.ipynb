{
 "cells": [
  {
   "cell_type": "markdown",
   "metadata": {},
   "source": [
    "# Titanic\n",
    "\n",
    "## Otázky a úkoly:\n",
    "\n",
    "1. O kolika pasažérech Titanicu víme?\n",
    "2. Kolik procent jich přežilo?\n",
    "3. Kolik procent žen přežilo? Kolik procent mužů?\n",
    "4. Pro každou třídu vypište kolik pasažérů dané třídy nastoupilo na loď, kolik jich přežilo, a kolik to dělá procent přeživších.\n",
    "5. Vykreslete graf procenta přeživších podle dekády věku (t.j. procento pro 0-9 let, 10-19 let, atd.).\n",
    "6. Závisí na sobě třída a věk pasažéra? Jak? Vykreslete graf(y), které tuto závislost znázorňují."
   ]
  },
  {
   "cell_type": "code",
   "execution_count": 1,
   "metadata": {
    "collapsed": true
   },
   "outputs": [],
   "source": [
    "import pandas\n",
    "import matplotlib\n",
    "import matplotlib.style\n",
    "matplotlib.style.use('ggplot')\n",
    "\n",
    "# Zapnout zobrazování grafů (procento uvozuje „magickou” zkratku IPythonu):\n",
    "%matplotlib inline"
   ]
  },
  {
   "cell_type": "code",
   "execution_count": 2,
   "metadata": {
    "collapsed": false
   },
   "outputs": [],
   "source": [
    "passengers = pandas.read_csv('dataset.csv', index_col=0)"
   ]
  },
  {
   "cell_type": "markdown",
   "metadata": {},
   "source": [
    "## O kolika pasažérech Titanicu víme?"
   ]
  },
  {
   "cell_type": "code",
   "execution_count": 3,
   "metadata": {
    "collapsed": false
   },
   "outputs": [
    {
     "data": {
      "text/plain": [
       "1313"
      ]
     },
     "execution_count": 3,
     "metadata": {},
     "output_type": "execute_result"
    }
   ],
   "source": [
    "passenger_cnt = len(passengers)\n",
    "passenger_cnt"
   ]
  },
  {
   "cell_type": "markdown",
   "metadata": {},
   "source": [
    "## Kolik procent jich přežilo?"
   ]
  },
  {
   "cell_type": "code",
   "execution_count": 4,
   "metadata": {
    "collapsed": false
   },
   "outputs": [
    {
     "data": {
      "text/plain": [
       "34.27265803503427"
      ]
     },
     "execution_count": 4,
     "metadata": {},
     "output_type": "execute_result"
    }
   ],
   "source": [
    "survived_passengers = passengers.loc[passengers['Survived'] == 1]\n",
    "survived_passenger_cnt = len(survived_passengers)\n",
    "survived_passenger_cnt/passenger_cnt*100"
   ]
  },
  {
   "cell_type": "markdown",
   "metadata": {},
   "source": [
    "## Kolik procent žen přežilo?"
   ]
  },
  {
   "cell_type": "code",
   "execution_count": 5,
   "metadata": {
    "collapsed": false
   },
   "outputs": [
    {
     "data": {
      "text/plain": [
       "66.66666666666666"
      ]
     },
     "execution_count": 5,
     "metadata": {},
     "output_type": "execute_result"
    }
   ],
   "source": [
    "women = passengers.loc[passengers['Sex'] == 'female']\n",
    "len(women.loc[women['Survived'] == 1])/len(women)*100"
   ]
  },
  {
   "cell_type": "markdown",
   "metadata": {},
   "source": [
    "## Kolik procent mužů přežilo?"
   ]
  },
  {
   "cell_type": "code",
   "execution_count": 6,
   "metadata": {
    "collapsed": false
   },
   "outputs": [
    {
     "data": {
      "text/plain": [
       "16.686251468860164"
      ]
     },
     "execution_count": 6,
     "metadata": {},
     "output_type": "execute_result"
    }
   ],
   "source": [
    "men = passengers.loc[passengers['Sex'] == 'male']\n",
    "len(men.loc[men['Survived'] == 1])/len(men)*100"
   ]
  },
  {
   "cell_type": "markdown",
   "metadata": {},
   "source": [
    "## Pro každou třídu vypište kolik pasažérů dané třídy nastoupilo na loď, kolik jich přežilo, a kolik to dělá procent přeživších."
   ]
  },
  {
   "cell_type": "code",
   "execution_count": 7,
   "metadata": {
    "collapsed": false
   },
   "outputs": [
    {
     "data": {
      "text/html": [
       "<div>\n",
       "<table border=\"1\" class=\"dataframe\">\n",
       "  <thead>\n",
       "    <tr style=\"text-align: right;\">\n",
       "      <th></th>\n",
       "      <th>passengers</th>\n",
       "      <th>survived passengers</th>\n",
       "      <th>% of survivors</th>\n",
       "    </tr>\n",
       "    <tr>\n",
       "      <th>PClass</th>\n",
       "      <th></th>\n",
       "      <th></th>\n",
       "      <th></th>\n",
       "    </tr>\n",
       "  </thead>\n",
       "  <tbody>\n",
       "    <tr>\n",
       "      <th>1st</th>\n",
       "      <td>322</td>\n",
       "      <td>193</td>\n",
       "      <td>42.888889</td>\n",
       "    </tr>\n",
       "    <tr>\n",
       "      <th>2nd</th>\n",
       "      <td>279</td>\n",
       "      <td>119</td>\n",
       "      <td>26.444444</td>\n",
       "    </tr>\n",
       "    <tr>\n",
       "      <th>3rd</th>\n",
       "      <td>711</td>\n",
       "      <td>138</td>\n",
       "      <td>30.666667</td>\n",
       "    </tr>\n",
       "  </tbody>\n",
       "</table>\n",
       "</div>"
      ],
      "text/plain": [
       "        passengers  survived passengers  % of survivors\n",
       "PClass                                                 \n",
       "1st            322                  193       42.888889\n",
       "2nd            279                  119       26.444444\n",
       "3rd            711                  138       30.666667"
      ]
     },
     "execution_count": 7,
     "metadata": {},
     "output_type": "execute_result"
    }
   ],
   "source": [
    "# passengers_by_class\n",
    "pbc = passengers.groupby('PClass')['Name'].count()\n",
    "pbc_frame = pbc.rename('passengers').loc[['1st','2nd','3rd']].to_frame()\n",
    "\n",
    "# survived_passengers_by_class\n",
    "spbc = survived_passengers.groupby('PClass')['Name'].count()\n",
    "spbc_frame = spbc.rename('survived passengers').to_frame()\n",
    "\n",
    "# ratio\n",
    "ratio_frame = spbc.apply(lambda x: (x/survived_passenger_cnt*100)).rename('% of survivors')\n",
    "\n",
    "pandas.concat([pbc_frame, spbc_frame, ratio_frame], axis=1, join_axes=[pbc_frame.index])"
   ]
  },
  {
   "cell_type": "markdown",
   "metadata": {},
   "source": [
    "## Vykreslete graf procenta přeživších podle dekády věku (t.j. procento pro 0-9 let, 10-19 let, atd.)."
   ]
  },
  {
   "cell_type": "code",
   "execution_count": 8,
   "metadata": {
    "collapsed": false
   },
   "outputs": [
    {
     "data": {
      "image/png": "[encoded data removed]",
      "text/plain": [
       "<matplotlib.figure.Figure at 0x7fa488ba82b0>"
      ]
     },
     "metadata": {},
     "output_type": "display_data"
    }
   ],
   "source": [
    "def get_range(age):\n",
    "    if not age:\n",
    "        return \"unknow age\"\n",
    "    min = int(age // 10 * 10)\n",
    "    max = min + 9\n",
    "    return (str(min) + \"-\" + str(max))\n",
    "\n",
    "sp = survived_passengers.loc[:, 'Age'].fillna(False).apply(lambda x: get_range(x))\n",
    "sp_by_range = sp.to_frame().groupby('Age')['Age'].count()\n",
    "\n",
    "p = passengers.loc[:, 'Age'].fillna(False).apply(lambda x: get_range(x))\n",
    "p_by_range = p.to_frame().groupby('Age')['Age'].count()\n",
    "\n",
    "counts = pandas.DataFrame({\"s\": sp_by_range, \"p\": p_by_range}).fillna(0)\n",
    "counts['ratio'] = counts['s']/counts['p']*100\n",
    "\n",
    "plot = counts.loc[:, 'ratio'].plot.bar(\n",
    "    legend=False, title=\"the percentage of survivors by age\", figsize=(10,4)\n",
    ")\n",
    "plot.set_ylabel('% survivors out of passengers')\n",
    "plot.set_xlabel('age')\n",
    "matplotlib.pyplot.show()\n"
   ]
  },
  {
   "cell_type": "markdown",
   "metadata": {},
   "source": [
    "## Závisí na sobě třída a věk pasažéra? Jak? Vykreslete graf(y), které tuto závislost znázorňují."
   ]
  },
  {
   "cell_type": "code",
   "execution_count": 9,
   "metadata": {
    "collapsed": false
   },
   "outputs": [
    {
     "data": {
      "image/png": "[encoded data removed]",
      "text/plain": [
       "<matplotlib.figure.Figure at 0x7fa4868b50f0>"
      ]
     },
     "metadata": {},
     "output_type": "display_data"
    }
   ],
   "source": [
    "first_class = passengers.loc[:, 'Age'].loc[passengers['PClass'] == '1st'].fillna(False).apply(\n",
    "    lambda x: get_range(x)\n",
    ")\n",
    "second_class = passengers.loc[:, 'Age'].loc[passengers['PClass'] == '2nd'].fillna(False).apply(\n",
    "    lambda x: get_range(x)\n",
    ")\n",
    "third_class = passengers.loc[:, 'Age'].loc[passengers['PClass'] == '3rd'].fillna(False).apply(\n",
    "    lambda x: get_range(x)\n",
    ")\n",
    "\n",
    "c1_by_range = first_class.to_frame().groupby('Age')['Age'].count().astype(float)\n",
    "c2_by_range = second_class.to_frame().groupby('Age')['Age'].count().astype(float)\n",
    "c3_by_range = third_class.to_frame().groupby('Age')['Age'].count().astype(float)\n",
    "\n",
    "data = pandas.DataFrame({\n",
    "        \"1st\": c1_by_range,\n",
    "        \"2nd\": c2_by_range,\n",
    "        \"3rd\": c3_by_range\n",
    "}).fillna(0)\n",
    "\n",
    "data['sum'] = data.loc[:, '1st'] + data.loc[:, '2nd'] + data.loc[:, '3rd']\n",
    "data['1st class'] = data.loc[:, '1st'] / data.loc[:, 'sum'] * 100\n",
    "data['2nd class'] = data.loc[:, '2nd'] / data.loc[:, 'sum'] * 100\n",
    "data['3rd class'] = data.loc[:, '3rd'] / data.loc[:, 'sum'] * 100\n",
    "\n",
    "data = data.loc[:, ['1st class', '2nd class', '3rd class']]\n",
    "\n",
    "plot = data.plot.bar(\n",
    "    legend=True, title=\"the percentage of passengers by travel class\",\n",
    "    figsize=(10,5), stacked=True, width=0.95\n",
    ")\n",
    "plot.set_ylabel('% out of passengers')\n",
    "plot.set_xlabel('age')\n",
    "matplotlib.pyplot.show()"
   ]
  },
  {
   "cell_type": "markdown",
   "metadata": {
    "collapsed": true
   },
   "source": [
    "Na grafu si můžeme všimnout roustoucí tendence starších pasažérů v první třídě. Naopak druhá a především  třetí třída byla naplněna mladšími lidmi. Je zřetelně vidět obměna tříd v rámci věkové kategorie postupem od nejmladší k nejstarší.\n",
    "\n",
    "V posledním sloupci si můžeme všimnout faktu, že velká část pasažérů s neznámým věkem cestovala ve třetí třídě."
   ]
  }
 ],
 "metadata": {
  "kernelspec": {
   "display_name": "Python 3",
   "language": "python",
   "name": "python3"
  },
  "language_info": {
   "codemirror_mode": {
    "name": "ipython",
    "version": 3
   },
   "file_extension": ".py",
   "mimetype": "text/x-python",
   "name": "python",
   "nbconvert_exporter": "python",
   "pygments_lexer": "ipython3",
   "version": "3.4.3"
  }
 },
 "nbformat": 4,
 "nbformat_minor": 1
}
